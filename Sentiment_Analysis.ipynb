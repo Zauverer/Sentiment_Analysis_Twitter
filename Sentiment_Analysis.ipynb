{
  "nbformat": 4,
  "nbformat_minor": 0,
  "metadata": {
    "colab": {
      "name": "Sentiment Analysis",
      "provenance": [],
      "authorship_tag": "ABX9TyPIlyO49RuTL8eGqBsTg9fw",
      "include_colab_link": true
    },
    "kernelspec": {
      "name": "python3",
      "display_name": "Python 3"
    }
  },
  "cells": [
    {
      "cell_type": "markdown",
      "metadata": {
        "id": "view-in-github",
        "colab_type": "text"
      },
      "source": [
        "<a href=\"https://colab.research.google.com/github/Zauverer/Sum-all-items/blob/master/Sentiment_Analysis.ipynb\" target=\"_parent\"><img src=\"https://colab.research.google.com/assets/colab-badge.svg\" alt=\"Open In Colab\"/></a>"
      ]
    },
    {
      "cell_type": "markdown",
      "metadata": {
        "id": "s1xgJ2XX64Iw",
        "colab_type": "text"
      },
      "source": [
        "#  Sentiment Analysis from twitter using python in Colab"
      ]
    },
    {
      "cell_type": "markdown",
      "metadata": {
        "id": "PkAvjQ5a75im",
        "colab_type": "text"
      },
      "source": [
        "Importing Libraries"
      ]
    },
    {
      "cell_type": "code",
      "metadata": {
        "id": "nZP1TIea5vlV",
        "colab_type": "code",
        "colab": {}
      },
      "source": [
        "import numpy as np\n",
        "import pandas as pd\n",
        "import matplotlib.pyplot as plt\n",
        "\n",
        "import re \n",
        "import tweepy\n",
        "from textblob import TextBlob\n",
        "from wordcloud import WordCloud\n",
        "\n",
        "plt.style.use('fivethirtyeight')"
      ],
      "execution_count": 60,
      "outputs": []
    },
    {
      "cell_type": "code",
      "metadata": {
        "id": "YWdU2E0o7d4o",
        "colab_type": "code",
        "colab": {}
      },
      "source": [
        "from google.colab import files"
      ],
      "execution_count": 61,
      "outputs": []
    },
    {
      "cell_type": "code",
      "metadata": {
        "id": "jWnghG1cN1Wx",
        "colab_type": "code",
        "colab": {
          "resources": {
            "http://localhost:8080/nbextensions/google.colab/files.js": {
              "data": "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",
              "ok": true,
              "headers": [
                [
                  "content-type",
                  "application/javascript"
                ]
              ],
              "status": 200,
              "status_text": ""
            }
          },
          "base_uri": "https://localhost:8080/",
          "height": 73
        },
        "outputId": "3785b00a-807a-4685-e6f5-96c9e56b697d"
      },
      "source": [
        "uploaded = files.upload()"
      ],
      "execution_count": 62,
      "outputs": [
        {
          "output_type": "display_data",
          "data": {
            "text/html": [
              "\n",
              "     <input type=\"file\" id=\"files-40d3e373-73b9-4af6-9a81-5de0cd5c096d\" name=\"files[]\" multiple disabled\n",
              "        style=\"border:none\" />\n",
              "     <output id=\"result-40d3e373-73b9-4af6-9a81-5de0cd5c096d\">\n",
              "      Upload widget is only available when the cell has been executed in the\n",
              "      current browser session. Please rerun this cell to enable.\n",
              "      </output>\n",
              "      <script src=\"/nbextensions/google.colab/files.js\"></script> "
            ],
            "text/plain": [
              "<IPython.core.display.HTML object>"
            ]
          },
          "metadata": {
            "tags": []
          }
        },
        {
          "output_type": "stream",
          "text": [
            "Saving twittr_api.csv to twittr_api (3).csv\n"
          ],
          "name": "stdout"
        }
      ]
    },
    {
      "cell_type": "code",
      "metadata": {
        "id": "VaAjHSmNP0-Z",
        "colab_type": "code",
        "colab": {}
      },
      "source": [
        "log = pd.read_csv('twittr_api.csv')"
      ],
      "execution_count": 100,
      "outputs": []
    },
    {
      "cell_type": "code",
      "metadata": {
        "id": "6ztD8q2qN9Rm",
        "colab_type": "code",
        "colab": {}
      },
      "source": [
        "# Twitter API credentials\n",
        "consumerKey = log['Value'][0]\n",
        "consumerSecret = log['Value'][1]\n",
        "accessToken = log['Value'][2]\n",
        "accessTokenSecret = log['Value'][3]"
      ],
      "execution_count": 101,
      "outputs": []
    },
    {
      "cell_type": "code",
      "metadata": {
        "id": "d08fNtS03D3N",
        "colab_type": "code",
        "colab": {}
      },
      "source": [
        "#Create the authentication object\n",
        "authenticate = tweepy.OAuthHandler(consumerKey,consumerSecret)"
      ],
      "execution_count": 102,
      "outputs": []
    },
    {
      "cell_type": "code",
      "metadata": {
        "id": "zUwY8vVQ3ECi",
        "colab_type": "code",
        "colab": {}
      },
      "source": [
        "#Set the acces token and acces token secret\n",
        "authenticate.set_access_token(accessToken,accessTokenSecret)"
      ],
      "execution_count": 103,
      "outputs": []
    },
    {
      "cell_type": "code",
      "metadata": {
        "id": "IzUX44Fa2_7z",
        "colab_type": "code",
        "colab": {}
      },
      "source": [
        "#Create the API object while passing in the auth information\n",
        "api = tweepy.API(authenticate,wait_on_rate_limit=True,wait_on_rate_limit_notify=True)"
      ],
      "execution_count": 104,
      "outputs": []
    },
    {
      "cell_type": "code",
      "metadata": {
        "id": "HHEvFtM-9gUw",
        "colab_type": "code",
        "colab": {}
      },
      "source": [
        "#Extract 100 tweets form twitter user\n",
        "posts = api.user_timeline(screen_name =\"BillGates\", count=100, lang=\"eng\", tweet_mode=\"extended\")"
      ],
      "execution_count": 105,
      "outputs": []
    },
    {
      "cell_type": "code",
      "metadata": {
        "id": "eWZOdtZg6PO0",
        "colab_type": "code",
        "colab": {
          "base_uri": "https://localhost:8080/",
          "height": 161
        },
        "outputId": "2e9db23c-e848-4ba9-cca6-359643f6e102"
      },
      "source": [
        "#Print the last 5 tweets from the account\n",
        "print(\"Show the 5 recent tweets: \\n\")\n",
        "i=1\n",
        "for tweet in posts[0:5]:\n",
        "  print(str(i)+') '+tweet.full_text + 'n')\n",
        "  i = i + 1"
      ],
      "execution_count": 106,
      "outputs": [
        {
          "output_type": "stream",
          "text": [
            "Show the 5 recent tweets: \n",
            "\n",
            "1) Mosquito City is home to the world’s largest captive colony of mosquitoes. @IfakaraHealth Institute is doing fascinating research there about mosquito behaviors and finding ways to outsmart them. https://t.co/p3r11gMqdnn\n",
            "2) Deaths from malaria have been cut by more than half since the year 2000. Increased bed net use is one of the main reasons why https://t.co/qxMqqCUs11 #WorldMosquitoDayn\n",
            "3) RT @gavi: Vaccines prevent millions of deaths every year by harnessing the body’s immune system to create defences against future infection…n\n",
            "4) Ridding the world of preventable, treatable diseases like malaria will save millions of lives and lead to healthier, more prosperous communities. And that will make them better prepared to confront any new health challenges like COVID-19 in the future. https://t.co/6AbgoLSVai https://t.co/D6xm7XeuBHn\n",
            "5) RT @GlobalFund: As a community health worker in Kenya’s Homa Bay County, Evaline has helped her community dramatically reduce the number of…n\n"
          ],
          "name": "stdout"
        }
      ]
    },
    {
      "cell_type": "code",
      "metadata": {
        "id": "nAygVcZTG7Eg",
        "colab_type": "code",
        "colab": {}
      },
      "source": [
        "#Create a dataframe with a column calles Tweets\n",
        "df = pd.DataFrame([tweet.full_text for tweet in posts], columns=['Tweets'])"
      ],
      "execution_count": 107,
      "outputs": []
    },
    {
      "cell_type": "code",
      "metadata": {
        "id": "T9l7ggMN8_Kt",
        "colab_type": "code",
        "colab": {
          "base_uri": "https://localhost:8080/",
          "height": 797
        },
        "outputId": "bf9a7388-5c23-4a51-9f8e-92ad70740471"
      },
      "source": [
        "#Show the first 5 rows of data\n",
        "df.head(25)"
      ],
      "execution_count": 108,
      "outputs": [
        {
          "output_type": "execute_result",
          "data": {
            "text/html": [
              "<div>\n",
              "<style scoped>\n",
              "    .dataframe tbody tr th:only-of-type {\n",
              "        vertical-align: middle;\n",
              "    }\n",
              "\n",
              "    .dataframe tbody tr th {\n",
              "        vertical-align: top;\n",
              "    }\n",
              "\n",
              "    .dataframe thead th {\n",
              "        text-align: right;\n",
              "    }\n",
              "</style>\n",
              "<table border=\"1\" class=\"dataframe\">\n",
              "  <thead>\n",
              "    <tr style=\"text-align: right;\">\n",
              "      <th></th>\n",
              "      <th>Tweets</th>\n",
              "    </tr>\n",
              "  </thead>\n",
              "  <tbody>\n",
              "    <tr>\n",
              "      <th>0</th>\n",
              "      <td>Mosquito City is home to the world’s largest c...</td>\n",
              "    </tr>\n",
              "    <tr>\n",
              "      <th>1</th>\n",
              "      <td>Deaths from malaria have been cut by more than...</td>\n",
              "    </tr>\n",
              "    <tr>\n",
              "      <th>2</th>\n",
              "      <td>RT @gavi: Vaccines prevent millions of deaths ...</td>\n",
              "    </tr>\n",
              "    <tr>\n",
              "      <th>3</th>\n",
              "      <td>Ridding the world of preventable, treatable di...</td>\n",
              "    </tr>\n",
              "    <tr>\n",
              "      <th>4</th>\n",
              "      <td>RT @GlobalFund: As a community health worker i...</td>\n",
              "    </tr>\n",
              "    <tr>\n",
              "      <th>5</th>\n",
              "      <td>The progress the world has made against malari...</td>\n",
              "    </tr>\n",
              "    <tr>\n",
              "      <th>6</th>\n",
              "      <td>Move aside, @SharkWeek. This is the still the ...</td>\n",
              "    </tr>\n",
              "    <tr>\n",
              "      <th>7</th>\n",
              "      <td>RT @CEPIvaccines: A safe and effective #COVID1...</td>\n",
              "    </tr>\n",
              "    <tr>\n",
              "      <th>8</th>\n",
              "      <td>Because of long-standing barriers that are mad...</td>\n",
              "    </tr>\n",
              "    <tr>\n",
              "      <th>9</th>\n",
              "      <td>RT @trevormundel: This commitment is critical....</td>\n",
              "    </tr>\n",
              "    <tr>\n",
              "      <th>10</th>\n",
              "      <td>Teaching special education takes an amazing pe...</td>\n",
              "    </tr>\n",
              "    <tr>\n",
              "      <th>11</th>\n",
              "      <td>RT @antonioguterres: Last month, over 1 billio...</td>\n",
              "    </tr>\n",
              "    <tr>\n",
              "      <th>12</th>\n",
              "      <td>Our foundation is partnering with @DonorsChoos...</td>\n",
              "    </tr>\n",
              "    <tr>\n",
              "      <th>13</th>\n",
              "      <td>I always look forward to meeting Washington’s ...</td>\n",
              "    </tr>\n",
              "    <tr>\n",
              "      <th>14</th>\n",
              "      <td>Bill Foege was instrumental in the effort to e...</td>\n",
              "    </tr>\n",
              "    <tr>\n",
              "      <th>15</th>\n",
              "      <td>The world did not do enough to prepare for a p...</td>\n",
              "    </tr>\n",
              "    <tr>\n",
              "      <th>16</th>\n",
              "      <td>Great tips from @CT_Bergstrom about how to fin...</td>\n",
              "    </tr>\n",
              "    <tr>\n",
              "      <th>17</th>\n",
              "      <td>RT @exemplarshealth: In our recent webinar, @d...</td>\n",
              "    </tr>\n",
              "    <tr>\n",
              "      <th>18</th>\n",
              "      <td>If we learn the lessons of COVID-19, we can ap...</td>\n",
              "    </tr>\n",
              "    <tr>\n",
              "      <th>19</th>\n",
              "      <td>In his final words, John Lewis challenges all ...</td>\n",
              "    </tr>\n",
              "    <tr>\n",
              "      <th>20</th>\n",
              "      <td>The impacts of COVID-19 are driving worrying i...</td>\n",
              "    </tr>\n",
              "    <tr>\n",
              "      <th>21</th>\n",
              "      <td>RT @trevormundel: The @WorldBank’s support of ...</td>\n",
              "    </tr>\n",
              "    <tr>\n",
              "      <th>22</th>\n",
              "      <td>In these challenging times, we can’t lose sigh...</td>\n",
              "    </tr>\n",
              "    <tr>\n",
              "      <th>23</th>\n",
              "      <td>Science and innovation will help us beat COVID...</td>\n",
              "    </tr>\n",
              "    <tr>\n",
              "      <th>24</th>\n",
              "      <td>It’s important that we continue to follow scie...</td>\n",
              "    </tr>\n",
              "  </tbody>\n",
              "</table>\n",
              "</div>"
            ],
            "text/plain": [
              "                                               Tweets\n",
              "0   Mosquito City is home to the world’s largest c...\n",
              "1   Deaths from malaria have been cut by more than...\n",
              "2   RT @gavi: Vaccines prevent millions of deaths ...\n",
              "3   Ridding the world of preventable, treatable di...\n",
              "4   RT @GlobalFund: As a community health worker i...\n",
              "5   The progress the world has made against malari...\n",
              "6   Move aside, @SharkWeek. This is the still the ...\n",
              "7   RT @CEPIvaccines: A safe and effective #COVID1...\n",
              "8   Because of long-standing barriers that are mad...\n",
              "9   RT @trevormundel: This commitment is critical....\n",
              "10  Teaching special education takes an amazing pe...\n",
              "11  RT @antonioguterres: Last month, over 1 billio...\n",
              "12  Our foundation is partnering with @DonorsChoos...\n",
              "13  I always look forward to meeting Washington’s ...\n",
              "14  Bill Foege was instrumental in the effort to e...\n",
              "15  The world did not do enough to prepare for a p...\n",
              "16  Great tips from @CT_Bergstrom about how to fin...\n",
              "17  RT @exemplarshealth: In our recent webinar, @d...\n",
              "18  If we learn the lessons of COVID-19, we can ap...\n",
              "19  In his final words, John Lewis challenges all ...\n",
              "20  The impacts of COVID-19 are driving worrying i...\n",
              "21  RT @trevormundel: The @WorldBank’s support of ...\n",
              "22  In these challenging times, we can’t lose sigh...\n",
              "23  Science and innovation will help us beat COVID...\n",
              "24  It’s important that we continue to follow scie..."
            ]
          },
          "metadata": {
            "tags": []
          },
          "execution_count": 108
        }
      ]
    },
    {
      "cell_type": "code",
      "metadata": {
        "id": "-IZXLuLEHgty",
        "colab_type": "code",
        "colab": {}
      },
      "source": [
        "#Clean text\n",
        "\n",
        "#Create a function to clean the tweets\n",
        "def cleanTxt(text):\n",
        "  #r: raw string\n",
        "  text = re.sub(r'@[A-Za-z0-9]+', '',text)\n",
        "  text = re.sub(r'#','',text)\n",
        "  text = re.sub(r'!','',text)\n",
        "  text = re.sub(r'RT[\\s]+','',text) #one or more empty\n",
        "  text = re.sub(r'https?:\\/\\/\\S+','',text)\n",
        "  text = re.sub(r':','',text)\n",
        "  #text = re.sub(r'[a-z]*[:.]+\\S+','',text)\n",
        "  #text = re.sub(r\"(?:\\@|http?\\://|https?\\://|www)\\S+\",'',text)\n",
        "  \n",
        "  return text\n",
        "\n"
      ],
      "execution_count": 109,
      "outputs": []
    },
    {
      "cell_type": "code",
      "metadata": {
        "id": "JSJCMbyebUP4",
        "colab_type": "code",
        "colab": {}
      },
      "source": [
        "df['Tweets'] = df['Tweets'].apply(cleanTxt)"
      ],
      "execution_count": 110,
      "outputs": []
    },
    {
      "cell_type": "code",
      "metadata": {
        "id": "4-ewfMo8bdLF",
        "colab_type": "code",
        "colab": {
          "base_uri": "https://localhost:8080/",
          "height": 797
        },
        "outputId": "dbbf1375-5e03-4649-e67d-465f917b776b"
      },
      "source": [
        "df.head(25)"
      ],
      "execution_count": 111,
      "outputs": [
        {
          "output_type": "execute_result",
          "data": {
            "text/html": [
              "<div>\n",
              "<style scoped>\n",
              "    .dataframe tbody tr th:only-of-type {\n",
              "        vertical-align: middle;\n",
              "    }\n",
              "\n",
              "    .dataframe tbody tr th {\n",
              "        vertical-align: top;\n",
              "    }\n",
              "\n",
              "    .dataframe thead th {\n",
              "        text-align: right;\n",
              "    }\n",
              "</style>\n",
              "<table border=\"1\" class=\"dataframe\">\n",
              "  <thead>\n",
              "    <tr style=\"text-align: right;\">\n",
              "      <th></th>\n",
              "      <th>Tweets</th>\n",
              "    </tr>\n",
              "  </thead>\n",
              "  <tbody>\n",
              "    <tr>\n",
              "      <th>0</th>\n",
              "      <td>Mosquito City is home to the world’s largest c...</td>\n",
              "    </tr>\n",
              "    <tr>\n",
              "      <th>1</th>\n",
              "      <td>Deaths from malaria have been cut by more than...</td>\n",
              "    </tr>\n",
              "    <tr>\n",
              "      <th>2</th>\n",
              "      <td>Vaccines prevent millions of deaths every yea...</td>\n",
              "    </tr>\n",
              "    <tr>\n",
              "      <th>3</th>\n",
              "      <td>Ridding the world of preventable, treatable di...</td>\n",
              "    </tr>\n",
              "    <tr>\n",
              "      <th>4</th>\n",
              "      <td>As a community health worker in Kenya’s Homa ...</td>\n",
              "    </tr>\n",
              "    <tr>\n",
              "      <th>5</th>\n",
              "      <td>The progress the world has made against malari...</td>\n",
              "    </tr>\n",
              "    <tr>\n",
              "      <th>6</th>\n",
              "      <td>Move aside, . This is the still the world’s de...</td>\n",
              "    </tr>\n",
              "    <tr>\n",
              "      <th>7</th>\n",
              "      <td>A safe and effective COVID19 vaccine is the w...</td>\n",
              "    </tr>\n",
              "    <tr>\n",
              "      <th>8</th>\n",
              "      <td>Because of long-standing barriers that are mad...</td>\n",
              "    </tr>\n",
              "    <tr>\n",
              "      <th>9</th>\n",
              "      <td>This commitment is critical. “Additional manu...</td>\n",
              "    </tr>\n",
              "    <tr>\n",
              "      <th>10</th>\n",
              "      <td>Teaching special education takes an amazing pe...</td>\n",
              "    </tr>\n",
              "    <tr>\n",
              "      <th>11</th>\n",
              "      <td>Last month, over 1 billion students were affe...</td>\n",
              "    </tr>\n",
              "    <tr>\n",
              "      <th>12</th>\n",
              "      <td>Our foundation is partnering with  to support ...</td>\n",
              "    </tr>\n",
              "    <tr>\n",
              "      <th>13</th>\n",
              "      <td>I always look forward to meeting Washington’s ...</td>\n",
              "    </tr>\n",
              "    <tr>\n",
              "      <th>14</th>\n",
              "      <td>Bill Foege was instrumental in the effort to e...</td>\n",
              "    </tr>\n",
              "    <tr>\n",
              "      <th>15</th>\n",
              "      <td>The world did not do enough to prepare for a p...</td>\n",
              "    </tr>\n",
              "    <tr>\n",
              "      <th>16</th>\n",
              "      <td>Great tips from _Bergstrom about how to find r...</td>\n",
              "    </tr>\n",
              "    <tr>\n",
              "      <th>17</th>\n",
              "      <td>In our recent webinar,  called for community-...</td>\n",
              "    </tr>\n",
              "    <tr>\n",
              "      <th>18</th>\n",
              "      <td>If we learn the lessons of COVID-19, we can ap...</td>\n",
              "    </tr>\n",
              "    <tr>\n",
              "      <th>19</th>\n",
              "      <td>In his final words, John Lewis challenges all ...</td>\n",
              "    </tr>\n",
              "    <tr>\n",
              "      <th>20</th>\n",
              "      <td>The impacts of COVID-19 are driving worrying i...</td>\n",
              "    </tr>\n",
              "    <tr>\n",
              "      <th>21</th>\n",
              "      <td>The ’s support of  and  is instrumental to th...</td>\n",
              "    </tr>\n",
              "    <tr>\n",
              "      <th>22</th>\n",
              "      <td>In these challenging times, we can’t lose sigh...</td>\n",
              "    </tr>\n",
              "    <tr>\n",
              "      <th>23</th>\n",
              "      <td>Science and innovation will help us beat COVID...</td>\n",
              "    </tr>\n",
              "    <tr>\n",
              "      <th>24</th>\n",
              "      <td>It’s important that we continue to follow scie...</td>\n",
              "    </tr>\n",
              "  </tbody>\n",
              "</table>\n",
              "</div>"
            ],
            "text/plain": [
              "                                               Tweets\n",
              "0   Mosquito City is home to the world’s largest c...\n",
              "1   Deaths from malaria have been cut by more than...\n",
              "2    Vaccines prevent millions of deaths every yea...\n",
              "3   Ridding the world of preventable, treatable di...\n",
              "4    As a community health worker in Kenya’s Homa ...\n",
              "5   The progress the world has made against malari...\n",
              "6   Move aside, . This is the still the world’s de...\n",
              "7    A safe and effective COVID19 vaccine is the w...\n",
              "8   Because of long-standing barriers that are mad...\n",
              "9    This commitment is critical. “Additional manu...\n",
              "10  Teaching special education takes an amazing pe...\n",
              "11   Last month, over 1 billion students were affe...\n",
              "12  Our foundation is partnering with  to support ...\n",
              "13  I always look forward to meeting Washington’s ...\n",
              "14  Bill Foege was instrumental in the effort to e...\n",
              "15  The world did not do enough to prepare for a p...\n",
              "16  Great tips from _Bergstrom about how to find r...\n",
              "17   In our recent webinar,  called for community-...\n",
              "18  If we learn the lessons of COVID-19, we can ap...\n",
              "19  In his final words, John Lewis challenges all ...\n",
              "20  The impacts of COVID-19 are driving worrying i...\n",
              "21   The ’s support of  and  is instrumental to th...\n",
              "22  In these challenging times, we can’t lose sigh...\n",
              "23  Science and innovation will help us beat COVID...\n",
              "24  It’s important that we continue to follow scie..."
            ]
          },
          "metadata": {
            "tags": []
          },
          "execution_count": 111
        }
      ]
    },
    {
      "cell_type": "markdown",
      "metadata": {
        "id": "kprICPyLdUha",
        "colab_type": "text"
      },
      "source": [
        ""
      ]
    },
    {
      "cell_type": "markdown",
      "metadata": {
        "id": "HN8Chm7gdW8O",
        "colab_type": "text"
      },
      "source": [
        "# subjetivity and polarity"
      ]
    },
    {
      "cell_type": "code",
      "metadata": {
        "id": "G6VrgqLPbeko",
        "colab_type": "code",
        "colab": {}
      },
      "source": [
        "def getSubjectivity(text):\n",
        "  return TextBlob(text).sentiment.subjectivity"
      ],
      "execution_count": 112,
      "outputs": []
    },
    {
      "cell_type": "code",
      "metadata": {
        "id": "ENqhTL6CdrbM",
        "colab_type": "code",
        "colab": {}
      },
      "source": [
        "def getPolarity(text):\n",
        "  return TextBlob(text).sentiment.polarity"
      ],
      "execution_count": 113,
      "outputs": []
    },
    {
      "cell_type": "code",
      "metadata": {
        "id": "0bkQySKddrx4",
        "colab_type": "code",
        "colab": {}
      },
      "source": [
        "df['Subjectivity'] = df['Tweets'].apply(getSubjectivity)\n",
        "df['Polarity'] = df['Tweets'].apply(getPolarity)"
      ],
      "execution_count": 114,
      "outputs": []
    },
    {
      "cell_type": "code",
      "metadata": {
        "id": "Ik2aiglxdsJ9",
        "colab_type": "code",
        "colab": {
          "base_uri": "https://localhost:8080/",
          "height": 406
        },
        "outputId": "af4e136e-9505-4363-9588-c2ca88d20732"
      },
      "source": [
        "df"
      ],
      "execution_count": 115,
      "outputs": [
        {
          "output_type": "execute_result",
          "data": {
            "text/html": [
              "<div>\n",
              "<style scoped>\n",
              "    .dataframe tbody tr th:only-of-type {\n",
              "        vertical-align: middle;\n",
              "    }\n",
              "\n",
              "    .dataframe tbody tr th {\n",
              "        vertical-align: top;\n",
              "    }\n",
              "\n",
              "    .dataframe thead th {\n",
              "        text-align: right;\n",
              "    }\n",
              "</style>\n",
              "<table border=\"1\" class=\"dataframe\">\n",
              "  <thead>\n",
              "    <tr style=\"text-align: right;\">\n",
              "      <th></th>\n",
              "      <th>Tweets</th>\n",
              "      <th>Subjectivity</th>\n",
              "      <th>Polarity</th>\n",
              "    </tr>\n",
              "  </thead>\n",
              "  <tbody>\n",
              "    <tr>\n",
              "      <th>0</th>\n",
              "      <td>Mosquito City is home to the world’s largest c...</td>\n",
              "      <td>0.725000</td>\n",
              "      <td>0.450000</td>\n",
              "    </tr>\n",
              "    <tr>\n",
              "      <th>1</th>\n",
              "      <td>Deaths from malaria have been cut by more than...</td>\n",
              "      <td>0.250000</td>\n",
              "      <td>0.125000</td>\n",
              "    </tr>\n",
              "    <tr>\n",
              "      <th>2</th>\n",
              "      <td>Vaccines prevent millions of deaths every yea...</td>\n",
              "      <td>0.125000</td>\n",
              "      <td>0.000000</td>\n",
              "    </tr>\n",
              "    <tr>\n",
              "      <th>3</th>\n",
              "      <td>Ridding the world of preventable, treatable di...</td>\n",
              "      <td>0.394886</td>\n",
              "      <td>0.284091</td>\n",
              "    </tr>\n",
              "    <tr>\n",
              "      <th>4</th>\n",
              "      <td>As a community health worker in Kenya’s Homa ...</td>\n",
              "      <td>0.000000</td>\n",
              "      <td>0.000000</td>\n",
              "    </tr>\n",
              "    <tr>\n",
              "      <th>...</th>\n",
              "      <td>...</td>\n",
              "      <td>...</td>\n",
              "      <td>...</td>\n",
              "    </tr>\n",
              "    <tr>\n",
              "      <th>95</th>\n",
              "      <td>I’m connecting live with  and  to talk about w...</td>\n",
              "      <td>0.312500</td>\n",
              "      <td>0.068182</td>\n",
              "    </tr>\n",
              "    <tr>\n",
              "      <th>96</th>\n",
              "      <td>Thanks  for joining me yesterday to discuss th...</td>\n",
              "      <td>0.100000</td>\n",
              "      <td>0.100000</td>\n",
              "    </tr>\n",
              "    <tr>\n",
              "      <th>97</th>\n",
              "      <td>I’m answering your questions about the COVID19...</td>\n",
              "      <td>0.000000</td>\n",
              "      <td>0.000000</td>\n",
              "    </tr>\n",
              "    <tr>\n",
              "      <th>98</th>\n",
              "      <td>I know many parents are looking for resources ...</td>\n",
              "      <td>0.250000</td>\n",
              "      <td>0.250000</td>\n",
              "    </tr>\n",
              "    <tr>\n",
              "      <th>99</th>\n",
              "      <td>We don’t yet have all the tools we need to fig...</td>\n",
              "      <td>0.600000</td>\n",
              "      <td>0.300000</td>\n",
              "    </tr>\n",
              "  </tbody>\n",
              "</table>\n",
              "<p>100 rows × 3 columns</p>\n",
              "</div>"
            ],
            "text/plain": [
              "                                               Tweets  Subjectivity  Polarity\n",
              "0   Mosquito City is home to the world’s largest c...      0.725000  0.450000\n",
              "1   Deaths from malaria have been cut by more than...      0.250000  0.125000\n",
              "2    Vaccines prevent millions of deaths every yea...      0.125000  0.000000\n",
              "3   Ridding the world of preventable, treatable di...      0.394886  0.284091\n",
              "4    As a community health worker in Kenya’s Homa ...      0.000000  0.000000\n",
              "..                                                ...           ...       ...\n",
              "95  I’m connecting live with  and  to talk about w...      0.312500  0.068182\n",
              "96  Thanks  for joining me yesterday to discuss th...      0.100000  0.100000\n",
              "97  I’m answering your questions about the COVID19...      0.000000  0.000000\n",
              "98  I know many parents are looking for resources ...      0.250000  0.250000\n",
              "99  We don’t yet have all the tools we need to fig...      0.600000  0.300000\n",
              "\n",
              "[100 rows x 3 columns]"
            ]
          },
          "metadata": {
            "tags": []
          },
          "execution_count": 115
        }
      ]
    },
    {
      "cell_type": "code",
      "metadata": {
        "id": "iaQl4OQldr_Y",
        "colab_type": "code",
        "colab": {}
      },
      "source": [
        "# Plot Word Cloud\n",
        "allWords = ' '.join([twts for twts in df['Tweets']])"
      ],
      "execution_count": 116,
      "outputs": []
    },
    {
      "cell_type": "code",
      "metadata": {
        "id": "AB7og6BDdrnL",
        "colab_type": "code",
        "colab": {
          "base_uri": "https://localhost:8080/",
          "height": 88
        },
        "outputId": "21e8f79f-0f10-447b-d327-f823173a3a63"
      },
      "source": [
        "allWords"
      ],
      "execution_count": 117,
      "outputs": [
        {
          "output_type": "execute_result",
          "data": {
            "application/vnd.google.colaboratory.intrinsic+json": {
              "type": "string"
            },
            "text/plain": [
              "'Mosquito City is home to the world’s largest captive colony of mosquitoes.  Institute is doing fascinating research there about mosquito behaviors and finding ways to outsmart them.  Deaths from malaria have been cut by more than half since the year 2000. Increased bed net use is one of the main reasons why  WorldMosquitoDay  Vaccines prevent millions of deaths every year by harnessing the body’s immune system to create defences against future infection… Ridding the world of preventable, treatable diseases like malaria will save millions of lives and lead to healthier, more prosperous communities. And that will make them better prepared to confront any new health challenges like COVID-19 in the future.    As a community health worker in Kenya’s Homa Bay County, Evaline has helped her community dramatically reduce the number of… The progress the world has made against malaria is one of the greatest success stories ever. The COVID-19 pandemic only reinforces why eradicating malaria is so essential.  Move aside, . This is the still the world’s deadliest killer    A safe and effective COVID19 vaccine is the way out of this devastating pandemic🌍\\n\\nOur Director of Vaccine R&amp;D, Melanie… Because of long-standing barriers that are made worse by COVID-19, hundreds of thousands of students with promise may never start college. This would be disastrous for these young people and for the country. Here’s what we’re doing to help   This commitment is critical. “Additional manufacturing capacity to begin producing doses for every country, not just the… Teaching special education takes an amazing person to figure out exactly what works for each child. Talking with Washington State Teacher of the Year Amy Campbell gave me an even greater appreciation for these educators    Last month, over 1 billion students were affected by COVID19 school closures.\\n\\nEven before the pandemic, the world wa… Our foundation is partnering with  to support teachers as they get ready to go back to school—in whatever form that takes—and will boost your donations to the classroom project of your choice today.  I always look forward to meeting Washington’s Teacher of the Year. This year’s recipient, Amy Campbell (_MrsCampbell), is a remarkable advocate for her students, and I loved learning about her approach to teaching special ed.  Bill Foege was instrumental in the effort to eradicate smallpox (and is a personal hero of mine). Here he outlines how lessons learned from that campaign can apply to the fight against COVID-19.  The world did not do enough to prepare for a pandemic. We can avoid making the same mistake with climate change by\\n\\n1. Letting science and innovation lead the way\\n2. Making sure solutions work for poor countries too\\n3. Getting started now\\n\\n Great tips from _Bergstrom about how to find reliable sources of information and test claims you may see about the pandemic in your social media feeds.   In our recent webinar,  called for community-led responses to coronavirus. These types of engagements ha… If we learn the lessons of COVID-19, we can approach climate change more informed about the consequences of inaction, and more prepared to save lives and prevent the worst possible outcome.  In his final words, John Lewis challenges all of us to continue to stand up for what we truly believe. “Together, you can redeem the soul of our nation.” \\n\\n The impacts of COVID-19 are driving worrying increases in malnutrition and health outcomes. However, there are clear actions that can be taken in both the near- and long-term.   The ’s support of  and  is instrumental to the research and development of the COVID19 vacci… In these challenging times, we can’t lose sight of the importance of combatting climate change. I’m excited to hear about how companies like  are finding a way to play a role.  Science and innovation will help us beat COVID-19. Dr. Fauci explains why.  It’s important that we continue to follow scientific data as we look for new tools to aid in the fight against coronavirus.   _org \"We all have an obligation, a mission, and a mandate to do what we can. We must speak up for those who have been left out and… “I truly believe that if there is faith and hope and determination, we can continue to lay progress and create an American community at peace with ourselves.” \\n \\nJohn Lewis will continue to inspire generations of Americans.\\n\\n It’s hard to overstate how important finding a reliable, affordable, and easy-to-use diagnostic is for stopping Alzheimer’s. This is a big step towards that goal.  Investments in digital technology that strengthen Africa’s food and health security will be critical to help the continent recover and thrive after the pandemic.   Three lessons that have been central to the COVID19 response in South Africa, Liberia, &amp; other countries\\n🔸 Screening… \"Our best strategy in the age-old fight against the germs is our collaborative, data-based effort to study the world around us and within us. Our best strategy is science.\"  explains how vaccines have dramatically improved humanity’s ability to fight infectious disease.   Not many of us get to live to see our own legacy play out in such a meaningful, remarkable way. John Lewis did\\n\\n This is a great loss for America, and for everyone who believes in making the world a more just place. John Lewis not only saw that our country could be better--he never stopped working to make it that way. We need leaders like him more than ever.   Decision-makers can take steps right now to make sure the world recovers from this pandemic stronger, more prepared &amp; mor… Globally, a lack of medical oxygen–needed to treat pneumonia, malaria, and other diseases–leads to hundreds of thousands of deaths each year.  founded _Tele to address this often-overlooked challenge.  This hero is playing a critical role in Kenya’s preparations to tackle COVID-19 by scaling up medical oxygen supplies that will be needed to keep the most critically ill patients alive.   Here\\'s what Juneteenth means to me   “It’s that clarity of language about the VALUE of black life in America that distinguishes Juneteenth as emancipation…  \"And I’ll never lose my faith that you and I can create an anti-racist America where racial disparities are nonexistent.…  When I think of emancipation, I think of all of the people who fought for freedom but who never got a chance to experien…  Happy Juneteenth fam My latest for the . Find joy today The images from the article alone are giving me l…  Thinking today about my great-grandfather &amp; his family who were enslaved here in Montgomery County, Maryland (just about 25…  “Only those feigning blindness fail to see the body of work we are, and the work of body we have done. \\n\\nEverything is what it is…  Juneteenth recognizes &amp; celebrates Black people’s freedom and the end of slavery in the US  19 Jun 1865 Union Army Genera… _org It\\'s time to end the silence about our history of racial injustice in America. Juneteenth   Proud to share my thoughts in ’s “injustice issue” on (and for) our beloved young people I call the TrayvonGene… _Nyongo 1. This is Opal Lee, the force behind the movement to make Juneteenth a national holiday. Also known as Freedom Day, it…  Opal is 93 years old and a great interview. Take a listen  I am committed to listening and learning more about systemic racism and what I can do with my actions and words to help create a more equal and just future. Black lives matter. …in policing, criminal justice, education, health care, housing, the workplace and all other areas of their lives. The horrifying killings of George Floyd, Ahmaud Arbery, Breonna Taylor and far too many other Black people—and the protests they sparked—are shining a light on the brutal injustices that Black people experience every day…  Today world leaders pledged to fully support ’s mission to give more children access to lifesaving vaccines and b…  The video of George Floyd’s brutal death broke my heart. I’ve watched the protests that followed and have felt overwhelme… I continue to be inspired by all of the volunteers (including many retired health care workers and teachers) on the front lines of the fight against coronavirus each day.  Here are five books to read this summer if you want to learn more about pandemics or are looking for a distraction   Melinda recommended that I read The Choice, and I’m glad she did. I think many people will find comfort right now from Dr. Edith Eva Eger\\'s suggestions on how to handle difficult situations.  Today is RedNoseDay. Their work has made an incredible impact to reduce child poverty in the US and around the world.  The 1918 influenza outbreak is the closest comparison to what we’re living through right now. John Barry does a great job explaining the realities and lessons of that devastating pandemic.  Most of my conversations these days are about COVID-19 and how we can stem the tide, but I’m also often asked about what I am reading and watching. Here are my 2020 summer book recommendations (plus a few other ideas for things to do at home).    Thank you for the conversation and partnership, . Combating the pandemic requires global collaboration. India’s role is key as the world works to minimize social and economic impact, and pave the way to vaccine, testing, and treatment access for all.  I’m hopeful that this program will improve our understanding of the coronavirus outbreak in Seattle and provide valuable information about the virus for other communities around the world.   When will America be able to get back to work? \\n\\nThe answer depends on whether workers have caregiving options they can r… Class of 2020, these are not easy times. But we will get through them. And with your leadership, the world will be stronger than before.   To overcome COVID19 the world doesn’t just need science. It needs a commitment to help people beat this virus wherever t… There are over 100 different coronavirus vaccine candidates in the works. These candidates take a variety of approaches to protecting the body against COVID-19   Humankind has never had a more urgent task than creating broad immunity for coronavirus. It’s going to require a global cooperative effort like the world has never seen. But I know we’ll get it done. There’s simply no alternative.   Developing a vaccine against COVID19 is among the first steps to a solution.\\n\\nDistributing the vaccine safely, effect… We don\\'t yet have all the tools we need to stop the novel coronavirus and safely re-open the economy. But they are on the horizon.  This is a great introduction to computer science concepts for students at all levels. I’m looking forward to joining today’s Code Break.  Halting funding for the World Health Organization during a world health crisis is as dangerous as it sounds. Their work is slowing the spread of COVID-19 and if that work is stopped no other organization can replace them. The world needs  now more than ever. . does an amazing job capturing the heroism of the health care workers on the front lines of the coronavirus fight.  On WorldHealthDay — and every day — I want to thank all of the health heroes for their sacrifices and for keeping us safe.  I always enjoy chatting with , even though we had to sit a little bit further apart than usual this time.  It’s encouraging to see the first projects begin from our effort to accelerate safe and effective drugs for COVID19.  I’m excited to join the  Daily Homeroom today to talk about the incredible ways parents, teachers, and students are coming together to keep learning while schools are closed.  If we make the right decisions now—informed by science, data and the experience of medical professionals—we can save lives and get the country back to work. You can read more about my thoughts on COVID19 on my blog.  In the meantime, frontline health care workers are making heroic efforts to test and treat patients across the United States and the world. Here in my hometown, Public Health Seattle &amp; King County () is doing incredible work that we should all be very proud of. All the work that rich countries are doing now to develop vaccines will save lives in developing countries too. Without a vaccine, those countries are at even greater risk than wealthy ones, because it’s even harder for them to do physical distancing and shutdowns. If everything goes well, there might be an effective vaccine in less than 18 months—the fastest a vaccine has ever been developed. That will depend on decisions we make today, including the federal government investing in building up manufacturing capacity. Work is going full speed on potential treatments, and vaccines. But people should know that it will take time to prove they are safe and effective and to start making them. There’s been some progress on more efficient testing methods, such as the self-swab developed by the Seattle Coronavirus Assessment Network. I hope this and other innovations in testing are scaled up across the country soon.  The federal government needs to step up on testing far more tests should be made available, and we should aggregate the results so we can quickly identify potential volunteers for clinical trials and know with confidence when it’s time to return to normal. Extreme physical distancing measures will make a big difference in the U.S., but we need a consistent nationwide approach. Until the case numbers start to go down across America—which could take 10 weeks or more—no one can continue business as usual or relax the shutdown. There’s no question the United States missed the opportunity to get ahead of the novel coronavirus. But the window for making important decisions hasn’t closed. The choices we and our leaders make now will have an enormous impact.  I’m inspired by the generosity of everyone who has contributed to this effort to help keep kids learning at home. Thank you to  and especially the educators who are doing amazing things for their students every day.  One of the questions I am most often asked about the COVID19 pandemic is how, and when, it will end. This article by  does a really good job of outlining the steps we need to take.  This impressive new tool from _UW will help hospitals, policymakers, and the general public better understand and prepare for the COVID19 response in the U.S.  This is encouraging news, but we still have a lot of work to do. Extreme physical distancing and testing are the best tools we have right now to slow the spread of novel coronavirus.  There are few people I’ve learned more from over the years–especially about viruses–than Peter Piot. This Q&amp;A with him is an excellent, easy-to-understand primer on COVID19   I’ve been impressed by governors across the country including , , , , , and the many others who are guiding their communities through this challenge and providing a model for us all to follow. Thanks to Norway and Prime Minister _solberg for their ongoing leadership in global health and important investments in vaccines.  The international response will require funding for ’s development of a COVID-19 vaccine and for . Thanks to  and the UK for this vital commitment.  Lots of people in Seattle have asked how they can help those impacted by COVID19 locally.  has done a great job identifying organizations who are already on the ground and deploying resources quickly to help our friends and neighbors   Thanks for your leadership, . This is an inspiring contribution and will make a big difference for families.  Teachers are doing incredible work to keep kids learning while at home. To help get supplies to those most in need, Melinda and I will double your impact, up to $1 million total, when you give to  coronavirus relief effort today and tomorrow.  I’m connecting live with  and  to talk about what our healthcare systems need to tackle the COVID19 pandemic and prepare for future epidemics.  Thanks  for joining me yesterday to discuss the COVID19 pandemic and what we can do to prevent the next one. Here\\'s a recap of the conversation   I’m answering your questions about the COVID19 coronavirus on  in 10 minutes   I know many parents are looking for resources and ideas to help their kids continue learning while home.  has created daily schedules with interactive content--exercises, videos and articles--for students in every grade.  We don’t yet have all the tools we need to fight COVID-19. This is an important step toward having treatments, while we also explore vaccines and diagnostics. Thanks to  and  for launching this effort with us. '"
            ]
          },
          "metadata": {
            "tags": []
          },
          "execution_count": 117
        }
      ]
    },
    {
      "cell_type": "code",
      "metadata": {
        "id": "Zu0qbuoAgJ6m",
        "colab_type": "code",
        "colab": {}
      },
      "source": [
        "wordCloud = WordCloud(width=500, height=300, random_state=21, max_font_size=119).generate(allWords)"
      ],
      "execution_count": 118,
      "outputs": []
    },
    {
      "cell_type": "code",
      "metadata": {
        "id": "yZS8PgeYf4N2",
        "colab_type": "code",
        "colab": {
          "base_uri": "https://localhost:8080/",
          "height": 273
        },
        "outputId": "3b7b90b5-f6e7-495b-f0ed-65b7545995fb"
      },
      "source": [
        "plt.imshow(wordCloud,interpolation = \"bilinear\")\n",
        "plt.axis('off')\n",
        "plt.show"
      ],
      "execution_count": 119,
      "outputs": [
        {
          "output_type": "execute_result",
          "data": {
            "text/plain": [
              "<function matplotlib.pyplot.show>"
            ]
          },
          "metadata": {
            "tags": []
          },
          "execution_count": 119
        },
        {
          "output_type": "display_data",
          "data": {
            "image/png": "[encoded data removed]",
            "text/plain": [
              "<Figure size 432x288 with 1 Axes>"
            ]
          },
          "metadata": {
            "tags": []
          }
        }
      ]
    },
    {
      "cell_type": "code",
      "metadata": {
        "id": "HC5nlJ1cdrOT",
        "colab_type": "code",
        "colab": {}
      },
      "source": [
        "#function to compute the negative, neutral and positive analysis\n",
        "def getAnalysis(score):\n",
        "  if score < 0:\n",
        "    return 'Negative'\n",
        "  elif score == 0:\n",
        "    return 'Neutral'\n",
        "  else: \n",
        "    return 'Positive'"
      ],
      "execution_count": 120,
      "outputs": []
    },
    {
      "cell_type": "code",
      "metadata": {
        "id": "AOk7okxgdSgZ",
        "colab_type": "code",
        "colab": {}
      },
      "source": [
        "df['Analysis'] = df['Polarity'].apply(getAnalysis)"
      ],
      "execution_count": 121,
      "outputs": []
    },
    {
      "cell_type": "code",
      "metadata": {
        "id": "K1BWAfddlPwU",
        "colab_type": "code",
        "colab": {
          "base_uri": "https://localhost:8080/",
          "height": 497
        },
        "outputId": "ec723985-ad84-4230-f3fe-1a49572a6066"
      },
      "source": [
        "df.head(15)"
      ],
      "execution_count": 122,
      "outputs": [
        {
          "output_type": "execute_result",
          "data": {
            "text/html": [
              "<div>\n",
              "<style scoped>\n",
              "    .dataframe tbody tr th:only-of-type {\n",
              "        vertical-align: middle;\n",
              "    }\n",
              "\n",
              "    .dataframe tbody tr th {\n",
              "        vertical-align: top;\n",
              "    }\n",
              "\n",
              "    .dataframe thead th {\n",
              "        text-align: right;\n",
              "    }\n",
              "</style>\n",
              "<table border=\"1\" class=\"dataframe\">\n",
              "  <thead>\n",
              "    <tr style=\"text-align: right;\">\n",
              "      <th></th>\n",
              "      <th>Tweets</th>\n",
              "      <th>Subjectivity</th>\n",
              "      <th>Polarity</th>\n",
              "      <th>Analysis</th>\n",
              "    </tr>\n",
              "  </thead>\n",
              "  <tbody>\n",
              "    <tr>\n",
              "      <th>0</th>\n",
              "      <td>Mosquito City is home to the world’s largest c...</td>\n",
              "      <td>0.725000</td>\n",
              "      <td>0.450000</td>\n",
              "      <td>Positive</td>\n",
              "    </tr>\n",
              "    <tr>\n",
              "      <th>1</th>\n",
              "      <td>Deaths from malaria have been cut by more than...</td>\n",
              "      <td>0.250000</td>\n",
              "      <td>0.125000</td>\n",
              "      <td>Positive</td>\n",
              "    </tr>\n",
              "    <tr>\n",
              "      <th>2</th>\n",
              "      <td>Vaccines prevent millions of deaths every yea...</td>\n",
              "      <td>0.125000</td>\n",
              "      <td>0.000000</td>\n",
              "      <td>Neutral</td>\n",
              "    </tr>\n",
              "    <tr>\n",
              "      <th>3</th>\n",
              "      <td>Ridding the world of preventable, treatable di...</td>\n",
              "      <td>0.394886</td>\n",
              "      <td>0.284091</td>\n",
              "      <td>Positive</td>\n",
              "    </tr>\n",
              "    <tr>\n",
              "      <th>4</th>\n",
              "      <td>As a community health worker in Kenya’s Homa ...</td>\n",
              "      <td>0.000000</td>\n",
              "      <td>0.000000</td>\n",
              "      <td>Neutral</td>\n",
              "    </tr>\n",
              "    <tr>\n",
              "      <th>5</th>\n",
              "      <td>The progress the world has made against malari...</td>\n",
              "      <td>0.575000</td>\n",
              "      <td>0.325000</td>\n",
              "      <td>Positive</td>\n",
              "    </tr>\n",
              "    <tr>\n",
              "      <th>6</th>\n",
              "      <td>Move aside, . This is the still the world’s de...</td>\n",
              "      <td>0.000000</td>\n",
              "      <td>0.000000</td>\n",
              "      <td>Neutral</td>\n",
              "    </tr>\n",
              "    <tr>\n",
              "      <th>7</th>\n",
              "      <td>A safe and effective COVID19 vaccine is the w...</td>\n",
              "      <td>0.766667</td>\n",
              "      <td>0.033333</td>\n",
              "      <td>Positive</td>\n",
              "    </tr>\n",
              "    <tr>\n",
              "      <th>8</th>\n",
              "      <td>Because of long-standing barriers that are mad...</td>\n",
              "      <td>0.600000</td>\n",
              "      <td>-0.333333</td>\n",
              "      <td>Negative</td>\n",
              "    </tr>\n",
              "    <tr>\n",
              "      <th>9</th>\n",
              "      <td>This commitment is critical. “Additional manu...</td>\n",
              "      <td>0.800000</td>\n",
              "      <td>0.000000</td>\n",
              "      <td>Neutral</td>\n",
              "    </tr>\n",
              "    <tr>\n",
              "      <th>10</th>\n",
              "      <td>Teaching special education takes an amazing pe...</td>\n",
              "      <td>0.555357</td>\n",
              "      <td>0.426786</td>\n",
              "      <td>Positive</td>\n",
              "    </tr>\n",
              "    <tr>\n",
              "      <th>11</th>\n",
              "      <td>Last month, over 1 billion students were affe...</td>\n",
              "      <td>0.066667</td>\n",
              "      <td>0.000000</td>\n",
              "      <td>Neutral</td>\n",
              "    </tr>\n",
              "    <tr>\n",
              "      <th>12</th>\n",
              "      <td>Our foundation is partnering with  to support ...</td>\n",
              "      <td>0.250000</td>\n",
              "      <td>0.100000</td>\n",
              "      <td>Positive</td>\n",
              "    </tr>\n",
              "    <tr>\n",
              "      <th>13</th>\n",
              "      <td>I always look forward to meeting Washington’s ...</td>\n",
              "      <td>0.707143</td>\n",
              "      <td>0.602381</td>\n",
              "      <td>Positive</td>\n",
              "    </tr>\n",
              "    <tr>\n",
              "      <th>14</th>\n",
              "      <td>Bill Foege was instrumental in the effort to e...</td>\n",
              "      <td>0.300000</td>\n",
              "      <td>0.000000</td>\n",
              "      <td>Neutral</td>\n",
              "    </tr>\n",
              "  </tbody>\n",
              "</table>\n",
              "</div>"
            ],
            "text/plain": [
              "                                               Tweets  ...  Analysis\n",
              "0   Mosquito City is home to the world’s largest c...  ...  Positive\n",
              "1   Deaths from malaria have been cut by more than...  ...  Positive\n",
              "2    Vaccines prevent millions of deaths every yea...  ...   Neutral\n",
              "3   Ridding the world of preventable, treatable di...  ...  Positive\n",
              "4    As a community health worker in Kenya’s Homa ...  ...   Neutral\n",
              "5   The progress the world has made against malari...  ...  Positive\n",
              "6   Move aside, . This is the still the world’s de...  ...   Neutral\n",
              "7    A safe and effective COVID19 vaccine is the w...  ...  Positive\n",
              "8   Because of long-standing barriers that are mad...  ...  Negative\n",
              "9    This commitment is critical. “Additional manu...  ...   Neutral\n",
              "10  Teaching special education takes an amazing pe...  ...  Positive\n",
              "11   Last month, over 1 billion students were affe...  ...   Neutral\n",
              "12  Our foundation is partnering with  to support ...  ...  Positive\n",
              "13  I always look forward to meeting Washington’s ...  ...  Positive\n",
              "14  Bill Foege was instrumental in the effort to e...  ...   Neutral\n",
              "\n",
              "[15 rows x 4 columns]"
            ]
          },
          "metadata": {
            "tags": []
          },
          "execution_count": 122
        }
      ]
    },
    {
      "cell_type": "code",
      "metadata": {
        "id": "D24X4QpflQOt",
        "colab_type": "code",
        "colab": {
          "base_uri": "https://localhost:8080/",
          "height": 1000
        },
        "outputId": "6fff6f09-c18d-47ab-8e71-9ee590d9129a"
      },
      "source": [
        "#Print all of the positive tweets\n",
        "j=1\n",
        "sortedDF = df.sort_values(by=['Polarity'])\n",
        "for i in range(0,sortedDF.shape[0]):\n",
        "  if (sortedDF['Analysis'][i] == 'Positive'):\n",
        "    print(str(j) +') '+ sortedDF['Tweets'][i])\n",
        "    print()\n",
        "    j = j+1\n"
      ],
      "execution_count": 123,
      "outputs": [
        {
          "output_type": "stream",
          "text": [
            "1) Mosquito City is home to the world’s largest captive colony of mosquitoes.  Institute is doing fascinating research there about mosquito behaviors and finding ways to outsmart them. \n",
            "\n",
            "2) Deaths from malaria have been cut by more than half since the year 2000. Increased bed net use is one of the main reasons why  WorldMosquitoDay\n",
            "\n",
            "3) Ridding the world of preventable, treatable diseases like malaria will save millions of lives and lead to healthier, more prosperous communities. And that will make them better prepared to confront any new health challenges like COVID-19 in the future.  \n",
            "\n",
            "4) The progress the world has made against malaria is one of the greatest success stories ever. The COVID-19 pandemic only reinforces why eradicating malaria is so essential. \n",
            "\n",
            "5)  A safe and effective COVID19 vaccine is the way out of this devastating pandemic🌍\n",
            "\n",
            "Our Director of Vaccine R&amp;D, Melanie…\n",
            "\n",
            "6) Teaching special education takes an amazing person to figure out exactly what works for each child. Talking with Washington State Teacher of the Year Amy Campbell gave me an even greater appreciation for these educators  \n",
            "\n",
            "7) Our foundation is partnering with  to support teachers as they get ready to go back to school—in whatever form that takes—and will boost your donations to the classroom project of your choice today. \n",
            "\n",
            "8) I always look forward to meeting Washington’s Teacher of the Year. This year’s recipient, Amy Campbell (_MrsCampbell), is a remarkable advocate for her students, and I loved learning about her approach to teaching special ed. \n",
            "\n",
            "9) The world did not do enough to prepare for a pandemic. We can avoid making the same mistake with climate change by\n",
            "\n",
            "1. Letting science and innovation lead the way\n",
            "2. Making sure solutions work for poor countries too\n",
            "3. Getting started now\n",
            "\n",
            "\n",
            "\n",
            "10) Great tips from _Bergstrom about how to find reliable sources of information and test claims you may see about the pandemic in your social media feeds. \n",
            "\n",
            "11) The impacts of COVID-19 are driving worrying increases in malnutrition and health outcomes. However, there are clear actions that can be taken in both the near- and long-term. \n",
            "\n",
            "12) In these challenging times, we can’t lose sight of the importance of combatting climate change. I’m excited to hear about how companies like  are finding a way to play a role. \n",
            "\n",
            "13) It’s important that we continue to follow scientific data as we look for new tools to aid in the fight against coronavirus.  \n",
            "\n",
            "14) It’s hard to overstate how important finding a reliable, affordable, and easy-to-use diagnostic is for stopping Alzheimer’s. This is a big step towards that goal. \n",
            "\n",
            "15) \"Our best strategy in the age-old fight against the germs is our collaborative, data-based effort to study the world around us and within us. Our best strategy is science.\"  explains how vaccines have dramatically improved humanity’s ability to fight infectious disease. \n",
            "\n",
            "16)  Not many of us get to live to see our own legacy play out in such a meaningful, remarkable way. John Lewis did\n",
            "\n",
            "\n",
            "\n",
            "17) This is a great loss for America, and for everyone who believes in making the world a more just place. John Lewis not only saw that our country could be better--he never stopped working to make it that way. We need leaders like him more than ever. \n",
            "\n",
            "18)  Decision-makers can take steps right now to make sure the world recovers from this pandemic stronger, more prepared &amp; mor…\n",
            "\n",
            "19) This hero is playing a critical role in Kenya’s preparations to tackle COVID-19 by scaling up medical oxygen supplies that will be needed to keep the most critically ill patients alive. \n",
            "\n",
            "20)  Happy Juneteenth fam My latest for the . Find joy today The images from the article alone are giving me l…\n",
            "\n",
            "21)  Proud to share my thoughts in ’s “injustice issue” on (and for) our beloved young people I call the TrayvonGene…\n",
            "\n",
            "22)  Opal is 93 years old and a great interview. Take a listen \n",
            "\n",
            "23) I am committed to listening and learning more about systemic racism and what I can do with my actions and words to help create a more equal and just future. Black lives matter.\n",
            "\n",
            "24)  Today world leaders pledged to fully support ’s mission to give more children access to lifesaving vaccines and b…\n",
            "\n",
            "25) I continue to be inspired by all of the volunteers (including many retired health care workers and teachers) on the front lines of the fight against coronavirus each day. \n",
            "\n",
            "26) Here are five books to read this summer if you want to learn more about pandemics or are looking for a distraction  \n",
            "\n",
            "27) Melinda recommended that I read The Choice, and I’m glad she did. I think many people will find comfort right now from Dr. Edith Eva Eger's suggestions on how to handle difficult situations. \n",
            "\n",
            "28) Today is RedNoseDay. Their work has made an incredible impact to reduce child poverty in the US and around the world. \n",
            "\n",
            "29) The 1918 influenza outbreak is the closest comparison to what we’re living through right now. John Barry does a great job explaining the realities and lessons of that devastating pandemic. \n",
            "\n",
            "30) Most of my conversations these days are about COVID-19 and how we can stem the tide, but I’m also often asked about what I am reading and watching. Here are my 2020 summer book recommendations (plus a few other ideas for things to do at home). \n",
            "\n",
            "31)   Thank you for the conversation and partnership, . Combating the pandemic requires global collaboration. India’s role is key as the world works to minimize social and economic impact, and pave the way to vaccine, testing, and treatment access for all. \n",
            "\n",
            "32)  When will America be able to get back to work? \n",
            "\n",
            "The answer depends on whether workers have caregiving options they can r…\n",
            "\n",
            "33) Humankind has never had a more urgent task than creating broad immunity for coronavirus. It’s going to require a global cooperative effort like the world has never seen. But I know we’ll get it done. There’s simply no alternative. \n",
            "\n",
            "34)  Developing a vaccine against COVID19 is among the first steps to a solution.\n",
            "\n",
            "Distributing the vaccine safely, effect…\n",
            "\n",
            "35) We don't yet have all the tools we need to stop the novel coronavirus and safely re-open the economy. But they are on the horizon. \n",
            "\n",
            "36) This is a great introduction to computer science concepts for students at all levels. I’m looking forward to joining today’s Code Break. \n",
            "\n",
            "37) . does an amazing job capturing the heroism of the health care workers on the front lines of the coronavirus fight. \n",
            "\n",
            "38) On WorldHealthDay — and every day — I want to thank all of the health heroes for their sacrifices and for keeping us safe. \n",
            "\n",
            "39) It’s encouraging to see the first projects begin from our effort to accelerate safe and effective drugs for COVID19. \n",
            "\n",
            "40) I’m excited to join the  Daily Homeroom today to talk about the incredible ways parents, teachers, and students are coming together to keep learning while schools are closed. \n",
            "\n",
            "41) If we make the right decisions now—informed by science, data and the experience of medical professionals—we can save lives and get the country back to work. You can read more about my thoughts on COVID19 on my blog. \n",
            "\n",
            "42) In the meantime, frontline health care workers are making heroic efforts to test and treat patients across the United States and the world. Here in my hometown, Public Health Seattle &amp; King County () is doing incredible work that we should all be very proud of.\n",
            "\n",
            "43) All the work that rich countries are doing now to develop vaccines will save lives in developing countries too. Without a vaccine, those countries are at even greater risk than wealthy ones, because it’s even harder for them to do physical distancing and shutdowns.\n",
            "\n",
            "44) If everything goes well, there might be an effective vaccine in less than 18 months—the fastest a vaccine has ever been developed. That will depend on decisions we make today, including the federal government investing in building up manufacturing capacity.\n",
            "\n",
            "45) Work is going full speed on potential treatments, and vaccines. But people should know that it will take time to prove they are safe and effective and to start making them.\n",
            "\n",
            "46) There’s been some progress on more efficient testing methods, such as the self-swab developed by the Seattle Coronavirus Assessment Network. I hope this and other innovations in testing are scaled up across the country soon. \n",
            "\n",
            "47) The federal government needs to step up on testing far more tests should be made available, and we should aggregate the results so we can quickly identify potential volunteers for clinical trials and know with confidence when it’s time to return to normal.\n",
            "\n",
            "48) There’s no question the United States missed the opportunity to get ahead of the novel coronavirus. But the window for making important decisions hasn’t closed. The choices we and our leaders make now will have an enormous impact. \n",
            "\n",
            "49) I’m inspired by the generosity of everyone who has contributed to this effort to help keep kids learning at home. Thank you to  and especially the educators who are doing amazing things for their students every day. \n",
            "\n",
            "50) One of the questions I am most often asked about the COVID19 pandemic is how, and when, it will end. This article by  does a really good job of outlining the steps we need to take. \n",
            "\n",
            "51) This impressive new tool from _UW will help hospitals, policymakers, and the general public better understand and prepare for the COVID19 response in the U.S. \n",
            "\n",
            "52) This is encouraging news, but we still have a lot of work to do. Extreme physical distancing and testing are the best tools we have right now to slow the spread of novel coronavirus. \n",
            "\n",
            "53) There are few people I’ve learned more from over the years–especially about viruses–than Peter Piot. This Q&amp;A with him is an excellent, easy-to-understand primer on COVID19  \n",
            "\n",
            "54) I’ve been impressed by governors across the country including , , , , , and the many others who are guiding their communities through this challenge and providing a model for us all to follow.\n",
            "\n",
            "55) Thanks to Norway and Prime Minister _solberg for their ongoing leadership in global health and important investments in vaccines. \n",
            "\n",
            "56) The international response will require funding for ’s development of a COVID-19 vaccine and for . Thanks to  and the UK for this vital commitment. \n",
            "\n",
            "57) Lots of people in Seattle have asked how they can help those impacted by COVID19 locally.  has done a great job identifying organizations who are already on the ground and deploying resources quickly to help our friends and neighbors  \n",
            "\n",
            "58) Thanks for your leadership, . This is an inspiring contribution and will make a big difference for families. \n",
            "\n",
            "59) Teachers are doing incredible work to keep kids learning while at home. To help get supplies to those most in need, Melinda and I will double your impact, up to $1 million total, when you give to  coronavirus relief effort today and tomorrow. \n",
            "\n",
            "60) I’m connecting live with  and  to talk about what our healthcare systems need to tackle the COVID19 pandemic and prepare for future epidemics. \n",
            "\n",
            "61) Thanks  for joining me yesterday to discuss the COVID19 pandemic and what we can do to prevent the next one. Here's a recap of the conversation  \n",
            "\n",
            "62) I know many parents are looking for resources and ideas to help their kids continue learning while home.  has created daily schedules with interactive content--exercises, videos and articles--for students in every grade. \n",
            "\n",
            "63) We don’t yet have all the tools we need to fight COVID-19. This is an important step toward having treatments, while we also explore vaccines and diagnostics. Thanks to  and  for launching this effort with us. \n",
            "\n"
          ],
          "name": "stdout"
        }
      ]
    },
    {
      "cell_type": "code",
      "metadata": {
        "id": "yEL-XT0tl-bR",
        "colab_type": "code",
        "colab": {
          "base_uri": "https://localhost:8080/",
          "height": 623
        },
        "outputId": "94a58791-4123-453d-8d92-6d7f2b1ea925"
      },
      "source": [
        "#print the negative tweets\n",
        "j=1\n",
        "sortedDF = df.sort_values(by=['Polarity'],ascending=False)\n",
        "for i in range(0,sortedDF.shape[0]):\n",
        "  if (sortedDF['Analysis'][i] == 'Negative'):\n",
        "    print(str(j) +') '+ sortedDF['Tweets'][i])\n",
        "    print()\n",
        "    j = j+1"
      ],
      "execution_count": 124,
      "outputs": [
        {
          "output_type": "stream",
          "text": [
            "1) Because of long-standing barriers that are made worse by COVID-19, hundreds of thousands of students with promise may never start college. This would be disastrous for these young people and for the country. Here’s what we’re doing to help \n",
            "\n",
            "2)  Three lessons that have been central to the COVID19 response in South Africa, Liberia, &amp; other countries\n",
            "🔸 Screening…\n",
            "\n",
            "3) Globally, a lack of medical oxygen–needed to treat pneumonia, malaria, and other diseases–leads to hundreds of thousands of deaths each year.  founded _Tele to address this often-overlooked challenge. \n",
            "\n",
            "4)  “It’s that clarity of language about the VALUE of black life in America that distinguishes Juneteenth as emancipation…\n",
            "\n",
            "5)  “Only those feigning blindness fail to see the body of work we are, and the work of body we have done. \n",
            "\n",
            "Everything is what it is…\n",
            "\n",
            "6)  Juneteenth recognizes &amp; celebrates Black people’s freedom and the end of slavery in the US  19 Jun 1865 Union Army Genera…\n",
            "\n",
            "7) _Nyongo 1. This is Opal Lee, the force behind the movement to make Juneteenth a national holiday. Also known as Freedom Day, it…\n",
            "\n",
            "8) …in policing, criminal justice, education, health care, housing, the workplace and all other areas of their lives.\n",
            "\n",
            "9) The horrifying killings of George Floyd, Ahmaud Arbery, Breonna Taylor and far too many other Black people—and the protests they sparked—are shining a light on the brutal injustices that Black people experience every day…\n",
            "\n",
            "10)  The video of George Floyd’s brutal death broke my heart. I’ve watched the protests that followed and have felt overwhelme…\n",
            "\n",
            "11) I’m hopeful that this program will improve our understanding of the coronavirus outbreak in Seattle and provide valuable information about the virus for other communities around the world. \n",
            "\n",
            "12) Class of 2020, these are not easy times. But we will get through them. And with your leadership, the world will be stronger than before. \n",
            "\n",
            "13) Halting funding for the World Health Organization during a world health crisis is as dangerous as it sounds. Their work is slowing the spread of COVID-19 and if that work is stopped no other organization can replace them. The world needs  now more than ever.\n",
            "\n",
            "14) I always enjoy chatting with , even though we had to sit a little bit further apart than usual this time. \n",
            "\n",
            "15) Extreme physical distancing measures will make a big difference in the U.S., but we need a consistent nationwide approach. Until the case numbers start to go down across America—which could take 10 weeks or more—no one can continue business as usual or relax the shutdown.\n",
            "\n"
          ],
          "name": "stdout"
        }
      ]
    },
    {
      "cell_type": "code",
      "metadata": {
        "id": "ftG0zJkhn4sw",
        "colab_type": "code",
        "colab": {
          "base_uri": "https://localhost:8080/",
          "height": 441
        },
        "outputId": "ee7f59a6-8954-49e7-8f3c-4eded3f8709a"
      },
      "source": [
        "#Plot the polarity and subjectivity\n",
        "plt.figure(figsize=(8,6))\n",
        "for i in range (0,df.shape[0]):\n",
        "  plt.scatter(df['Polarity'][i],df['Subjectivity'][i],color='Blue')\n",
        "\n",
        "plt.title('Sentinment Analysis')\n",
        "plt.xlabel('Polarity')\n",
        "plt.ylabel('Subjectivity')\n",
        "plt.show()"
      ],
      "execution_count": 125,
      "outputs": [
        {
          "output_type": "display_data",
          "data": {
            "image/png": "[encoded data removed]",
            "text/plain": [
              "<Figure size 576x432 with 1 Axes>"
            ]
          },
          "metadata": {
            "tags": []
          }
        }
      ]
    },
    {
      "cell_type": "code",
      "metadata": {
        "id": "ss6r3WsYoko1",
        "colab_type": "code",
        "colab": {
          "base_uri": "https://localhost:8080/",
          "height": 34
        },
        "outputId": "11626b0d-014e-4375-87ab-560cae0917ba"
      },
      "source": [
        "# Get the percentage of positive tweets\n",
        "ptweets = df[df.Analysis=='Positive']\n",
        "ptweets = ptweets['Tweets']\n",
        "round((ptweets.shape[0]/df.shape[0]*100),1)"
      ],
      "execution_count": 126,
      "outputs": [
        {
          "output_type": "execute_result",
          "data": {
            "text/plain": [
              "63.0"
            ]
          },
          "metadata": {
            "tags": []
          },
          "execution_count": 126
        }
      ]
    },
    {
      "cell_type": "code",
      "metadata": {
        "id": "byRomQekqDCv",
        "colab_type": "code",
        "colab": {
          "base_uri": "https://localhost:8080/",
          "height": 34
        },
        "outputId": "f0ec9145-9d18-420b-e968-2a8b049adb6f"
      },
      "source": [
        "ntweets = df[df.Analysis=='Negative']\n",
        "ntweets = ntweets['Tweets']\n",
        "round((ntweets.shape[0]/df.shape[0]*100),1)"
      ],
      "execution_count": 128,
      "outputs": [
        {
          "output_type": "execute_result",
          "data": {
            "text/plain": [
              "15.0"
            ]
          },
          "metadata": {
            "tags": []
          },
          "execution_count": 128
        }
      ]
    },
    {
      "cell_type": "code",
      "metadata": {
        "id": "_sMzrdn7pcpR",
        "colab_type": "code",
        "colab": {
          "base_uri": "https://localhost:8080/",
          "height": 34
        },
        "outputId": "46c21d88-9bae-49de-c1a9-2785fa33d9a1"
      },
      "source": [
        "nttweets = df[df.Analysis=='Neutral']\n",
        "nttweets = nttweets['Tweets']\n",
        "round((nttweets.shape[0]/df.shape[0]*100),1)"
      ],
      "execution_count": 129,
      "outputs": [
        {
          "output_type": "execute_result",
          "data": {
            "text/plain": [
              "22.0"
            ]
          },
          "metadata": {
            "tags": []
          },
          "execution_count": 129
        }
      ]
    },
    {
      "cell_type": "code",
      "metadata": {
        "id": "XMEaRXpms73s",
        "colab_type": "code",
        "colab": {
          "base_uri": "https://localhost:8080/",
          "height": 87
        },
        "outputId": "82ca6073-e2d3-4b49-ff35-4d162a498d5d"
      },
      "source": [
        "df['Analysis'].value_counts()"
      ],
      "execution_count": 135,
      "outputs": [
        {
          "output_type": "execute_result",
          "data": {
            "text/plain": [
              "Positive    63\n",
              "Neutral     22\n",
              "Negative    15\n",
              "Name: Analysis, dtype: int64"
            ]
          },
          "metadata": {
            "tags": []
          },
          "execution_count": 135
        }
      ]
    },
    {
      "cell_type": "code",
      "metadata": {
        "id": "Q0cW6i8WqYuD",
        "colab_type": "code",
        "colab": {
          "base_uri": "https://localhost:8080/",
          "height": 374
        },
        "outputId": "b934bbbe-d6e6-482f-a917-fb2f0557083e"
      },
      "source": [
        "#Show the value counts\n",
        "#plot and visualize the counts\n",
        "\n",
        "plt.title('Sentiment Analisys')\n",
        "plt.xlabel('Sentiment')\n",
        "plt.ylabel('Counts')\n",
        "\n",
        "df['Analysis'].value_counts().plot(kind='bar')\n",
        "plt.show()\n"
      ],
      "execution_count": 136,
      "outputs": [
        {
          "output_type": "display_data",
          "data": {
            "image/png": "[encoded data removed]",
            "text/plain": [
              "<Figure size 432x288 with 1 Axes>"
            ]
          },
          "metadata": {
            "tags": []
          }
        }
      ]
    },
    {
      "cell_type": "code",
      "metadata": {
        "id": "2hMhsTMJsq-4",
        "colab_type": "code",
        "colab": {}
      },
      "source": [
        ""
      ],
      "execution_count": null,
      "outputs": []
    }
  ]
}